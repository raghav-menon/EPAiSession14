{
 "cells": [
  {
   "cell_type": "code",
   "execution_count": 1,
   "metadata": {},
   "outputs": [],
   "source": [
    "import csv\n",
    "from itertools import islice, chain\n",
    "from collections import namedtuple\n",
    "from datetime import datetime\n",
    "from operator import attrgetter\n",
    "from functools import reduce\n",
    "from operator import add"
   ]
  },
  {
   "cell_type": "code",
   "execution_count": 2,
   "metadata": {},
   "outputs": [],
   "source": [
    "# Defining the datatypes in the row\n",
    "data_types_vehicles = ['STRING', 'STRING', 'STRING', 'DATE']\n",
    "data_types_upstatus = ['STRING', 'DATETIME', 'DATETIME']\n",
    "data_types_perinfo = ['STRING', 'STRING', 'STRING', 'STRING','STRING']\n",
    "data_types_employ = ['STRING', 'STRING', 'STRING', 'STRING']"
   ]
  },
  {
   "cell_type": "code",
   "execution_count": 3,
   "metadata": {},
   "outputs": [],
   "source": [
    "# Function to cast the value to the appropriate datatype\n",
    "def cast(data_type, value):\n",
    "    if data_type == 'DOUBLE':\n",
    "        return float(value)\n",
    "    elif data_type == 'INT':\n",
    "        return int(value)\n",
    "    elif data_type =='DATETIME':\n",
    "        return datetime.strptime(value,'%Y-%m-%dT%H:%M:%S%z').date()\n",
    "    elif data_type == 'DATE':\n",
    "        return datetime.strptime(value,'%Y').date().year\n",
    "    else:\n",
    "        return str(value)"
   ]
  },
  {
   "cell_type": "code",
   "execution_count": 4,
   "metadata": {},
   "outputs": [],
   "source": [
    "#Function which takes one row and sends the elements one by one for casting. Returns a list of casted elements \n",
    "def cast_row(data_types, data_row):\n",
    "    return [cast(data_type, value) \n",
    "            for data_type, value in zip(data_types, data_row)]"
   ]
  },
  {
   "cell_type": "code",
   "execution_count": 5,
   "metadata": {},
   "outputs": [],
   "source": [
    "# reading the file provided by filename and returning an iterator\n",
    "def read_file(filename, data_types, header = False):\n",
    "    with open(filename) as file:\n",
    "        file_iter = iter(file)\n",
    "        headers = next(file_iter).strip('\\n').split(',')\n",
    "        tuplename = filename.split('.')[0]\n",
    "        named_tuple = namedtuple(tuplename, headers, defaults=(None,) * len(headers))\n",
    "        if header:\n",
    "            yield headers\n",
    "        for line in file_iter:\n",
    "            data = line.strip('\\n').split(',')\n",
    "            data = cast_row(data_types, data)\n",
    "            iterdata = named_tuple(*data)\n",
    "            yield iterdata"
   ]
  },
  {
   "cell_type": "markdown",
   "metadata": {},
   "source": [
    "## Goal1: Your first task is to create iterators for each of the four files that contained cleaned up data, of the correct type (e.g. string, int, date, etc), and represented by a named tuple."
   ]
  },
  {
   "cell_type": "code",
   "execution_count": 6,
   "metadata": {},
   "outputs": [
    {
     "name": "stdout",
     "output_type": "stream",
     "text": [
      "personal_info(ssn='100-53-9824', first_name='Sebastiano', last_name='Tester', gender='Male', language='Icelandic')\n",
      "personal_info(ssn='101-71-4702', first_name='Cayla', last_name='MacDonagh', gender='Female', language='Lao')\n",
      "personal_info(ssn='101-84-0356', first_name='Nomi', last_name='Lipprose', gender='Female', language='Yiddish')\n",
      "personal_info(ssn='104-22-0928', first_name='Justinian', last_name='Kunzelmann', gender='Male', language='Dhivehi')\n",
      "personal_info(ssn='104-84-7144', first_name='Claudianus', last_name='Brixey', gender='Male', language='Afrikaans')\n",
      "personal_info(ssn='105-27-5541', first_name='Federico', last_name='Aggett', gender='Male', language='Chinese')\n"
     ]
    }
   ],
   "source": [
    "# Creating an iterator for personal_info.csv using read_file() and printing the first 5 elements \n",
    "rows_perinfo = read_file('personal_info.csv', data_types_perinfo)\n",
    "for row in islice(rows_perinfo,6):\n",
    "    print(row)"
   ]
  },
  {
   "cell_type": "code",
   "execution_count": 7,
   "metadata": {},
   "outputs": [
    {
     "name": "stdout",
     "output_type": "stream",
     "text": [
      "employment(employer='Stiedemann-Bailey', department='Research and Development', employee_id='29-0890771', ssn='100-53-9824')\n",
      "employment(employer='Nicolas and Sons', department='Sales', employee_id='41-6841359', ssn='101-71-4702')\n",
      "employment(employer='Connelly Group', department='Research and Development', employee_id='98-7952860', ssn='101-84-0356')\n",
      "employment(employer='Upton LLC', department='Marketing', employee_id='56-9817552', ssn='104-22-0928')\n",
      "employment(employer='Zemlak-Olson', department='Business Development', employee_id='46-2886707', ssn='104-84-7144')\n",
      "employment(employer='Kohler  Bradtke and Davis', department='Support', employee_id='80-0975518', ssn='105-27-5541')\n"
     ]
    }
   ],
   "source": [
    "# Creating an iterator for employment.csv using read_file() and printing the first 5 elements\n",
    "rows_employ = read_file('employment.csv', data_types_employ)\n",
    "for row in islice(rows_employ, 6):\n",
    "    print(row)"
   ]
  },
  {
   "cell_type": "code",
   "execution_count": 8,
   "metadata": {},
   "outputs": [
    {
     "name": "stdout",
     "output_type": "stream",
     "text": [
      "update_status(ssn='100-53-9824', last_updated=datetime.date(2017, 10, 7), created=datetime.date(2016, 1, 24))\n",
      "update_status(ssn='101-71-4702', last_updated=datetime.date(2017, 1, 23), created=datetime.date(2016, 1, 27))\n",
      "update_status(ssn='101-84-0356', last_updated=datetime.date(2017, 10, 4), created=datetime.date(2016, 9, 21))\n",
      "update_status(ssn='104-22-0928', last_updated=datetime.date(2017, 3, 28), created=datetime.date(2016, 4, 15))\n",
      "update_status(ssn='104-84-7144', last_updated=datetime.date(2018, 2, 19), created=datetime.date(2016, 3, 15))\n",
      "update_status(ssn='105-27-5541', last_updated=datetime.date(2017, 7, 24), created=datetime.date(2016, 7, 23))\n"
     ]
    }
   ],
   "source": [
    "# Creating an iterator for update_status.csv using read_file() and printing the first 5 elements\n",
    "rows_updateStatus = read_file('update_status.csv', data_types_upstatus)\n",
    "for row in islice(rows_updateStatus, 6):\n",
    "    print(row)"
   ]
  },
  {
   "cell_type": "code",
   "execution_count": 9,
   "metadata": {},
   "outputs": [
    {
     "name": "stdout",
     "output_type": "stream",
     "text": [
      "vehicles(ssn='100-53-9824', vehicle_make='Oldsmobile', vehicle_model='Bravada', model_year=1993)\n",
      "vehicles(ssn='101-71-4702', vehicle_make='Ford', vehicle_model='Mustang', model_year=1997)\n",
      "vehicles(ssn='101-84-0356', vehicle_make='GMC', vehicle_model='Yukon', model_year=2005)\n",
      "vehicles(ssn='104-22-0928', vehicle_make='Oldsmobile', vehicle_model='Intrigue', model_year=2000)\n",
      "vehicles(ssn='104-84-7144', vehicle_make='Ford', vehicle_model='Crown Victoria', model_year=2008)\n",
      "vehicles(ssn='105-27-5541', vehicle_make='Ford', vehicle_model='Mustang', model_year=2001)\n"
     ]
    }
   ],
   "source": [
    "# Creating an iterator for vehicles.csv using read_file() and printing the first 5 elements\n",
    "rows_vehicles = read_file('vehicles.csv', data_types_vehicles)\n",
    "for row in islice(rows_vehicles, 6):\n",
    "    print(row)"
   ]
  },
  {
   "cell_type": "markdown",
   "metadata": {},
   "source": [
    "## Goal 2:\n",
    "Create a single iterable that combines all the columns from all the iterators.\n",
    "\n",
    "The iterable should yield named tuples containing all the columns.\n",
    "Make sure that the SSN's across the files match!\n",
    "\n",
    "All the files are guaranteed to be in SSN sort order, and every SSN is unique, and every SSN appears in every file.\n",
    "\n",
    "Make sure the SSN is not repeated 4 times - one time per row is enough!"
   ]
  },
  {
   "cell_type": "code",
   "execution_count": 10,
   "metadata": {},
   "outputs": [],
   "source": [
    "## Function for sorting the iterator and returns a sorted iterator\n",
    "def sorting(iterator, field):\n",
    "    sorted_ = iter(sorted(iterator, key=lambda x: getattr(x, field), reverse = False))\n",
    "    return (sorted_)"
   ]
  },
  {
   "cell_type": "code",
   "execution_count": 11,
   "metadata": {},
   "outputs": [],
   "source": [
    "## Function for merging the individual namedtuple in a list\n",
    "def merge(ntuples):\n",
    "    m = {}\n",
    "    for i in ntuples:\n",
    "        m.update(i._asdict())\n",
    "    M = namedtuple(\"Combiter\", m.keys())(*m.values())\n",
    "    return M"
   ]
  },
  {
   "cell_type": "code",
   "execution_count": 12,
   "metadata": {},
   "outputs": [],
   "source": [
    "## Combining the iterators and returning the value via a yield thus making the function a generator\n",
    "def combiter(*args):\n",
    "    for k in zip(*args):\n",
    "        yield merge(list(k))"
   ]
  },
  {
   "cell_type": "code",
   "execution_count": 13,
   "metadata": {},
   "outputs": [],
   "source": [
    "## Defining Individual Iterators\n",
    "rows_perinfo = read_file('personal_info.csv', data_types_perinfo, header= True)\n",
    "rows_employ = read_file('employment.csv', data_types_employ, header = True)\n",
    "rows_updateStatus = read_file('update_status.csv', data_types_upstatus, header = True)\n",
    "rows_vehicles = read_file('vehicles.csv', data_types_vehicles, header= True)"
   ]
  },
  {
   "cell_type": "code",
   "execution_count": 14,
   "metadata": {},
   "outputs": [
    {
     "name": "stdout",
     "output_type": "stream",
     "text": [
      "['ssn', 'first_name', 'last_name', 'gender', 'language'] ['employer', 'department', 'employee_id', 'ssn'] ['ssn', 'last_updated', 'created'] ['ssn', 'vehicle_make', 'vehicle_model', 'model_year']\n"
     ]
    }
   ],
   "source": [
    "## Obtaining the headers and printing the headers\n",
    "h_perinfo = next(rows_perinfo)\n",
    "h_employ  = next(rows_employ)\n",
    "h_updateStatus = next(rows_updateStatus)\n",
    "h_vehicles = next(rows_vehicles)\n",
    "print(h_perinfo,h_employ,h_updateStatus,h_vehicles)"
   ]
  },
  {
   "cell_type": "code",
   "execution_count": 15,
   "metadata": {},
   "outputs": [],
   "source": [
    "## Sorting the iterators w.r.t ssn\n",
    "rows_perinfo_sort = sorting(rows_perinfo, 'ssn')\n",
    "rows_employ_sort = sorting(rows_employ,'ssn')\n",
    "rows_updateStatus_sort = sorting(rows_updateStatus,'ssn')\n",
    "rows_vehicles_sort = sorting(rows_vehicles,'ssn')"
   ]
  },
  {
   "cell_type": "code",
   "execution_count": 16,
   "metadata": {},
   "outputs": [],
   "source": [
    "#for rows in islice(rows_perinfo_sort,5):\n",
    "    #print(rows)"
   ]
  },
  {
   "cell_type": "code",
   "execution_count": 17,
   "metadata": {},
   "outputs": [],
   "source": [
    "#for rows in islice(rows_employ_sort,5):\n",
    "    #print(rows)"
   ]
  },
  {
   "cell_type": "code",
   "execution_count": 18,
   "metadata": {},
   "outputs": [],
   "source": [
    "#for rows in islice(rows_updateStatus_sort,5):\n",
    "    #print(rows)"
   ]
  },
  {
   "cell_type": "code",
   "execution_count": 19,
   "metadata": {},
   "outputs": [],
   "source": [
    "#for rows in islice(rows_vehicles_sort,5):\n",
    "    #print(rows)"
   ]
  },
  {
   "cell_type": "code",
   "execution_count": 20,
   "metadata": {},
   "outputs": [
    {
     "name": "stdout",
     "output_type": "stream",
     "text": [
      "0 --> Combiter(ssn='100-53-9824', first_name='Sebastiano', last_name='Tester', gender='Male', language='Icelandic', employer='Stiedemann-Bailey', department='Research and Development', employee_id='29-0890771', last_updated=datetime.date(2017, 10, 7), created=datetime.date(2016, 1, 24), vehicle_make='Oldsmobile', vehicle_model='Bravada', model_year=1993)\n",
      "1 --> Combiter(ssn='101-71-4702', first_name='Cayla', last_name='MacDonagh', gender='Female', language='Lao', employer='Nicolas and Sons', department='Sales', employee_id='41-6841359', last_updated=datetime.date(2017, 1, 23), created=datetime.date(2016, 1, 27), vehicle_make='Ford', vehicle_model='Mustang', model_year=1997)\n",
      "2 --> Combiter(ssn='101-84-0356', first_name='Nomi', last_name='Lipprose', gender='Female', language='Yiddish', employer='Connelly Group', department='Research and Development', employee_id='98-7952860', last_updated=datetime.date(2017, 10, 4), created=datetime.date(2016, 9, 21), vehicle_make='GMC', vehicle_model='Yukon', model_year=2005)\n",
      "3 --> Combiter(ssn='104-22-0928', first_name='Justinian', last_name='Kunzelmann', gender='Male', language='Dhivehi', employer='Upton LLC', department='Marketing', employee_id='56-9817552', last_updated=datetime.date(2017, 3, 28), created=datetime.date(2016, 4, 15), vehicle_make='Oldsmobile', vehicle_model='Intrigue', model_year=2000)\n",
      "4 --> Combiter(ssn='104-84-7144', first_name='Claudianus', last_name='Brixey', gender='Male', language='Afrikaans', employer='Zemlak-Olson', department='Business Development', employee_id='46-2886707', last_updated=datetime.date(2018, 2, 19), created=datetime.date(2016, 3, 15), vehicle_make='Ford', vehicle_model='Crown Victoria', model_year=2008)\n"
     ]
    }
   ],
   "source": [
    "# Printing the first 5 elements from the combined iterators\n",
    "for index, rows in enumerate(islice(combiter(rows_perinfo_sort,rows_employ_sort, rows_updateStatus_sort, rows_vehicles_sort), 5)):\n",
    "    print(index,'-->',rows)"
   ]
  },
  {
   "cell_type": "markdown",
   "metadata": {},
   "source": [
    "## Goal 3\n",
    "\n",
    "Next, you want to identify any stale records, where stale simply means the record has not been updated since 3/1/2017 (e.g. last update date < 3/1/2017). Create an iterator that only contains current records (i.e. not stale) based on the `last_updated` field from the `status_update` file."
   ]
  },
  {
   "cell_type": "code",
   "execution_count": 21,
   "metadata": {},
   "outputs": [],
   "source": [
    "# A function to remove all the values below a particular date and return an iterator for the rest\n",
    "def filiter(combi):\n",
    "    date_ref = datetime.strptime('3/1/2017','%m/%d/%Y').date()\n",
    "    for obj in combi:\n",
    "        if obj.last_updated >= date_ref:\n",
    "            yield obj\n",
    "        else:\n",
    "            continue"
   ]
  },
  {
   "cell_type": "code",
   "execution_count": 22,
   "metadata": {},
   "outputs": [],
   "source": [
    "## Defining Individual Iterators\n",
    "rows_perinfo = read_file('personal_info.csv', data_types_perinfo)\n",
    "rows_employ = read_file('employment.csv', data_types_employ)\n",
    "rows_updateStatus = read_file('update_status.csv', data_types_upstatus)\n",
    "rows_vehicles = read_file('vehicles.csv', data_types_vehicles)"
   ]
  },
  {
   "cell_type": "code",
   "execution_count": 23,
   "metadata": {},
   "outputs": [],
   "source": [
    "## Sorting the iterators\n",
    "rows_perinfo_sort = sorting(rows_perinfo, 'ssn')\n",
    "rows_employ_sort = sorting(rows_employ,'ssn')\n",
    "rows_updateStatus_sort = sorting(rows_updateStatus,'ssn')\n",
    "rows_vehicles_sort = sorting(rows_vehicles,'ssn')"
   ]
  },
  {
   "cell_type": "code",
   "execution_count": 24,
   "metadata": {},
   "outputs": [],
   "source": [
    "## Combining the iterators\n",
    "combi_iterators = combiter(rows_perinfo_sort,rows_employ_sort, rows_updateStatus_sort, rows_vehicles_sort)"
   ]
  },
  {
   "cell_type": "code",
   "execution_count": 25,
   "metadata": {},
   "outputs": [],
   "source": [
    "## An iterator for the filtered dates\n",
    "fil = filiter(combi_iterators)"
   ]
  },
  {
   "cell_type": "code",
   "execution_count": 26,
   "metadata": {},
   "outputs": [
    {
     "name": "stdout",
     "output_type": "stream",
     "text": [
      "0 --> Combiter(ssn='100-53-9824', first_name='Sebastiano', last_name='Tester', gender='Male', language='Icelandic', employer='Stiedemann-Bailey', department='Research and Development', employee_id='29-0890771', last_updated=datetime.date(2017, 10, 7), created=datetime.date(2016, 1, 24), vehicle_make='Oldsmobile', vehicle_model='Bravada', model_year=1993)\n",
      "1 --> Combiter(ssn='101-84-0356', first_name='Nomi', last_name='Lipprose', gender='Female', language='Yiddish', employer='Connelly Group', department='Research and Development', employee_id='98-7952860', last_updated=datetime.date(2017, 10, 4), created=datetime.date(2016, 9, 21), vehicle_make='GMC', vehicle_model='Yukon', model_year=2005)\n",
      "2 --> Combiter(ssn='104-22-0928', first_name='Justinian', last_name='Kunzelmann', gender='Male', language='Dhivehi', employer='Upton LLC', department='Marketing', employee_id='56-9817552', last_updated=datetime.date(2017, 3, 28), created=datetime.date(2016, 4, 15), vehicle_make='Oldsmobile', vehicle_model='Intrigue', model_year=2000)\n",
      "3 --> Combiter(ssn='104-84-7144', first_name='Claudianus', last_name='Brixey', gender='Male', language='Afrikaans', employer='Zemlak-Olson', department='Business Development', employee_id='46-2886707', last_updated=datetime.date(2018, 2, 19), created=datetime.date(2016, 3, 15), vehicle_make='Ford', vehicle_model='Crown Victoria', model_year=2008)\n",
      "4 --> Combiter(ssn='105-27-5541', first_name='Federico', last_name='Aggett', gender='Male', language='Chinese', employer='Kohler  Bradtke and Davis', department='Support', employee_id='80-0975518', last_updated=datetime.date(2017, 7, 24), created=datetime.date(2016, 7, 23), vehicle_make='Ford', vehicle_model='Mustang', model_year=2001)\n"
     ]
    }
   ],
   "source": [
    "## Printing the first 5 elements after filtering values less than a particular date\n",
    "for index, rows in enumerate(islice(fil,5)):\n",
    "    print(index,'-->',rows)"
   ]
  },
  {
   "cell_type": "markdown",
   "metadata": {},
   "source": [
    "## Goal 4\n",
    "\n",
    "Find the largest group of car makes for each gender.\n",
    "\n",
    "Possibly more than one such group per gender exists (equal sizes)."
   ]
  },
  {
   "cell_type": "code",
   "execution_count": 27,
   "metadata": {},
   "outputs": [],
   "source": [
    "## Function to count the cars used by Men and Women and return a dictionary with reverse sorted results\n",
    "def counter(iterator):\n",
    "    \n",
    "    cars_male = dict()\n",
    "    cars_female = dict()\n",
    "    \n",
    "    for item in iterator:\n",
    "        if item.gender =='Male':\n",
    "            try:\n",
    "                cars_male[item.vehicle_model] +=1\n",
    "            except:\n",
    "                cars_male[item.vehicle_model] = 1\n",
    "        else:\n",
    "            try:\n",
    "                cars_female[item.vehicle_model] +=1\n",
    "            except:\n",
    "                cars_female[item.vehicle_model] = 1\n",
    "    \n",
    "    return {k: v for k, v in sorted(cars_male.items(), key=lambda item: item[1], reverse=True)}, {k: v for k, v in sorted(cars_female.items(), key=lambda item: item[1], reverse = True)}"
   ]
  },
  {
   "cell_type": "code",
   "execution_count": 28,
   "metadata": {},
   "outputs": [],
   "source": [
    "## Defining Individual Iterators\n",
    "rows_perinfo = read_file('personal_info.csv', data_types_perinfo)\n",
    "rows_employ = read_file('employment.csv', data_types_employ)\n",
    "rows_updateStatus = read_file('update_status.csv', data_types_upstatus)\n",
    "rows_vehicles = read_file('vehicles.csv', data_types_vehicles)"
   ]
  },
  {
   "cell_type": "code",
   "execution_count": 29,
   "metadata": {},
   "outputs": [],
   "source": [
    "## Sorting the iterators\n",
    "rows_perinfo_sort = sorting(rows_perinfo, 'ssn')\n",
    "rows_employ_sort = sorting(rows_employ,'ssn')\n",
    "rows_updateStatus_sort = sorting(rows_updateStatus,'ssn')\n",
    "rows_vehicles_sort = sorting(rows_vehicles,'ssn')"
   ]
  },
  {
   "cell_type": "code",
   "execution_count": 30,
   "metadata": {},
   "outputs": [],
   "source": [
    "## Combining the iterators\n",
    "combi_iterators = combiter(rows_perinfo_sort,rows_employ_sort, rows_updateStatus_sort, rows_vehicles_sort)"
   ]
  },
  {
   "cell_type": "code",
   "execution_count": 31,
   "metadata": {},
   "outputs": [],
   "source": [
    "## Counting the cars driven by Men and Women\n",
    "Men, Women = counter(combi_iterators)"
   ]
  },
  {
   "cell_type": "code",
   "execution_count": 32,
   "metadata": {},
   "outputs": [
    {
     "name": "stdout",
     "output_type": "stream",
     "text": [
      "Top 5 cars used by Men in the decreasing order:  {'Savana 1500': 7, 'Mustang': 4, 'G': 4, 'Corvette': 4, 'Sonata': 4}\n"
     ]
    }
   ],
   "source": [
    "print (\"Top 5 cars used by Men in the decreasing order: \", dict(list(Men.items())[0:5]) )"
   ]
  },
  {
   "cell_type": "code",
   "execution_count": 33,
   "metadata": {},
   "outputs": [
    {
     "name": "stdout",
     "output_type": "stream",
     "text": [
      "Top 5 cars used by Women:  {'Mustang': 12, 'Esprit': 6, 'M5': 5, 'Corvette': 5, 'Taurus': 4}\n"
     ]
    }
   ],
   "source": [
    "print (\"Top 5 cars used by Women: \", dict(list(Women.items())[0: 5]))"
   ]
  },
  {
   "cell_type": "code",
   "execution_count": null,
   "metadata": {},
   "outputs": [],
   "source": []
  }
 ],
 "metadata": {
  "kernelspec": {
   "display_name": "Python 3",
   "language": "python",
   "name": "python3"
  },
  "language_info": {
   "codemirror_mode": {
    "name": "ipython",
    "version": 3
   },
   "file_extension": ".py",
   "mimetype": "text/x-python",
   "name": "python",
   "nbconvert_exporter": "python",
   "pygments_lexer": "ipython3",
   "version": "3.8.5"
  }
 },
 "nbformat": 4,
 "nbformat_minor": 4
}
